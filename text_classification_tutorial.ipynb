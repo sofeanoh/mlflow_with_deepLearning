{
 "cells": [
  {
   "cell_type": "code",
   "execution_count": 14,
   "metadata": {
    "id": "O0itYGIUT9ko"
   },
   "outputs": [],
   "source": [
    "# import os\n",
    "# os.environ[\"KERAS_BACKEND\"] = \"tensorflow\"\n",
    "# import keras\n",
    "# print(keras.backend.backend())"
   ]
  },
  {
   "cell_type": "code",
   "execution_count": 15,
   "metadata": {
    "id": "trKeQ50NSr13"
   },
   "outputs": [],
   "source": [
    "#1. import package\n",
    "import mlflow\n",
    "from tensorflow.keras import layers, losses, metrics, activations, callbacks, initializers, regularizers, optimizers, Sequential\n",
    "import numpy as np\n",
    "import pandas as pd\n",
    "import pickle, datetime\n",
    "from sklearn import preprocessing, model_selection\n",
    "import matplotlib.pyplot as plt"
   ]
  },
  {
   "cell_type": "code",
   "execution_count": 16,
   "metadata": {
    "id": "YS-eEZ14UzDl"
   },
   "outputs": [],
   "source": [
    "# Data Loading\n",
    "URL = 'https://raw.githubusercontent.com/susanli2016/PyCon-Canada-2019-NLP-Tutorial/master/bbc-text.csv'\n",
    "df = pd.read_csv(URL)\n"
   ]
  },
  {
   "cell_type": "code",
   "execution_count": 17,
   "metadata": {
    "colab": {
     "base_uri": "https://localhost:8080/"
    },
    "id": "rvA4egQ_VQl-",
    "outputId": "93ab6441-f5a7-463b-9300-d3943cfe4a97"
   },
   "outputs": [
    {
     "name": "stdout",
     "output_type": "stream",
     "text": [
      "<class 'pandas.core.frame.DataFrame'>\n",
      "RangeIndex: 2225 entries, 0 to 2224\n",
      "Data columns (total 2 columns):\n",
      " #   Column    Non-Null Count  Dtype \n",
      "---  ------    --------------  ----- \n",
      " 0   category  2225 non-null   object\n",
      " 1   text      2225 non-null   object\n",
      "dtypes: object(2)\n",
      "memory usage: 34.9+ KB\n",
      "None\n",
      "  category                                               text\n",
      "0     tech  tv future in the hands of viewers with home th...\n",
      "ocean s twelve raids box office ocean s twelve  the crime caper sequel starring george clooney  brad pitt and julia roberts  has gone straight to number one in the us box office chart.  it took $40.8m (£21m) in weekend ticket sales  according to studio estimates. the sequel follows the master criminals as they try to pull off three major heists across europe. it knocked last week s number one  national treasure  into third place. wesley snipes  blade: trinity was in second  taking $16.1m (£8.4m). rounding out the top five was animated fable the polar express  starring tom hanks  and festive comedy christmas with the kranks.  ocean s twelve box office triumph marks the fourth-biggest opening for a december release in the us  after the three films in the lord of the rings trilogy. the sequel narrowly beat its 2001 predecessor  ocean s eleven which took $38.1m (£19.8m) on its opening weekend and $184m (£95.8m) in total. a remake of the 1960s film  starring frank sinatra and the rat pack  ocean s eleven was directed by oscar-winning director steven soderbergh. soderbergh returns to direct the hit sequel which reunites clooney  pitt and roberts with matt damon  andy garcia and elliott gould. catherine zeta-jones joins the all-star cast.  it s just a fun  good holiday movie   said dan fellman  president of distribution at warner bros. however  us critics were less complimentary about the $110m (£57.2m) project  with the los angeles times labelling it a  dispiriting vanity project . a milder review in the new york times dubbed the sequel  unabashedly trivial .\n"
     ]
    }
   ],
   "source": [
    "print(df.info())\n",
    "print(df.head(1))\n",
    "print(df['text'][4])"
   ]
  },
  {
   "cell_type": "markdown",
   "metadata": {
    "id": "o0bXXR1uV659"
   },
   "source": [
    "the feature category is not a categorical feature. we cannot do much for text, but we can inspect for 'category' column."
   ]
  },
  {
   "cell_type": "code",
   "execution_count": 18,
   "metadata": {
    "colab": {
     "base_uri": "https://localhost:8080/"
    },
    "id": "vnTGCq5jWMDy",
    "outputId": "73029c9d-119a-4769-c700-2cf54e876967"
   },
   "outputs": [
    {
     "name": "stdout",
     "output_type": "stream",
     "text": [
      "number of categories: 5\n",
      "category\n",
      "sport            511\n",
      "business         510\n",
      "politics         417\n",
      "tech             401\n",
      "entertainment    386\n",
      "Name: count, dtype: int64\n",
      "Missing values: category    0\n",
      "text        0\n",
      "dtype: int64\n",
      "duplicates: 99\n"
     ]
    }
   ],
   "source": [
    "#Data Inspection\n",
    "print(\"number of categories:\", df['category'].nunique())\n",
    "print(df['category'].value_counts())\n",
    "print(\"Missing values:\", df.isna().sum())\n",
    "print(\"duplicates:\", df.duplicated().sum())"
   ]
  },
  {
   "cell_type": "code",
   "execution_count": 19,
   "metadata": {
    "colab": {
     "base_uri": "https://localhost:8080/"
    },
    "id": "qgqadi84Xk7V",
    "outputId": "80f8762b-d234-459e-a1b6-7dc8f4920017"
   },
   "outputs": [
    {
     "name": "stdout",
     "output_type": "stream",
     "text": [
      "category\n",
      "tech             54\n",
      "entertainment    17\n",
      "politics         14\n",
      "business          7\n",
      "sport             7\n",
      "Name: count, dtype: int64\n"
     ]
    }
   ],
   "source": [
    "print(df['category'][df['text'].duplicated()].value_counts())"
   ]
  },
  {
   "cell_type": "code",
   "execution_count": 20,
   "metadata": {
    "id": "B4ZPwt3wYPic"
   },
   "outputs": [],
   "source": [
    "#4. Data Preprocessing\n",
    "features = df['text'].values\n",
    "label = df['category'].values"
   ]
  },
  {
   "cell_type": "code",
   "execution_count": 21,
   "metadata": {
    "colab": {
     "base_uri": "https://localhost:8080/"
    },
    "id": "3WO9LpBDYwDM",
    "outputId": "1391528d-c404-4f78-d6f1-4e316214d5f8"
   },
   "outputs": [
    {
     "name": "stdout",
     "output_type": "stream",
     "text": [
      "[4 0 3 3 1]\n"
     ]
    }
   ],
   "source": [
    "# label is string, so need to encode first\n",
    "encoder = preprocessing.LabelEncoder()\n",
    "label_encoded = encoder.fit_transform(label)\n",
    "print(label_encoded[:5])"
   ]
  },
  {
   "cell_type": "code",
   "execution_count": 22,
   "metadata": {
    "colab": {
     "base_uri": "https://localhost:8080/"
    },
    "id": "sIJcbDewbGhB",
    "outputId": "ee489349-5357-42aa-b6d9-d2933e9e691c"
   },
   "outputs": [
    {
     "name": "stdout",
     "output_type": "stream",
     "text": [
      "(1557,) (334,) (334,)\n"
     ]
    }
   ],
   "source": [
    "\n",
    "# splitting\n",
    "SEED = 42\n",
    "X_train, X_split, y_train, y_split = model_selection.train_test_split(features, label_encoded, train_size=0.7, random_state=SEED)\n",
    "X_val, X_test, y_val, y_test = model_selection.train_test_split(X_split, y_split, train_size=0.5, random_state=SEED)\n",
    "\n",
    "print(X_train.shape, X_val.shape, X_test.shape)"
   ]
  },
  {
   "cell_type": "markdown",
   "metadata": {
    "id": "KERVynsxbmCe"
   },
   "source": [
    "## A bit about NLP\n",
    "- The next step is to process the feature which is of language data type\n",
    "- For language task, the basic preprocessing techniques are:\n",
    "1. Tokenization: The process of converting words into integers called token. The range of integers used depends on a hyperparameter called vocabulary size. Any words that are outside of the vocab is called OOV - Out of vocab. and they will all be treated equally as the same type of token\n",
    "\n",
    "2. Padding and truncating: This process will either expand or trim the language array so that each data point has a consistent length of words in it. Because each rows of data might not have the same length.\n",
    "\n",
    "3. Embedding : This process converts token into a long vector known as embedding. This vector is a special representation of the language which the model can sort of differentiate the meaning of different words. (We also have  embedding being used in face recognition task) - Word2Vec. This step will be the one that is served as a feature to the model.\n",
    "\n",
    "- Each word (each embedding) is a feature. It is treated as a time step. First word - time step 1, second word - time step 2 etc...\n",
    "\n"
   ]
  },
  {
   "cell_type": "code",
   "execution_count": 23,
   "metadata": {},
   "outputs": [
    {
     "data": {
      "text/plain": [
       "<Experiment: artifact_location='file:///Users/athirahsofea/mlflow_with_deepLearning/mlruns/818863518837143279', creation_time=1735619517883, experiment_id='818863518837143279', last_update_time=1735619517883, lifecycle_stage='active', name='NLP Classification task', tags={}>"
      ]
     },
     "execution_count": 23,
     "metadata": {},
     "output_type": "execute_result"
    }
   ],
   "source": [
    "mlflow.set_experiment(\"NLP Classification task\")"
   ]
  },
  {
   "cell_type": "code",
   "execution_count": 24,
   "metadata": {
    "id": "d1hRPRIUbjCk"
   },
   "outputs": [],
   "source": [
    "#preprocessing our text\n",
    "#[A] Tokenization\n",
    "# can use Text Vecotization. 1. max_tokens = size of vocabulary. \"We are just gonna look at 500 different words at max\" . 2. output_sequence_length . All of the texts have inconsisten length, the moment we define a fix number here, every text will forced to undergo either padding/truncating process.\n",
    "tokenizer = layers.TextVectorization(max_tokens=5000, output_sequence_length=200)\n",
    "tokenizer.adapt(X_train)"
   ]
  },
  {
   "cell_type": "code",
   "execution_count": 25,
   "metadata": {
    "colab": {
     "base_uri": "https://localhost:8080/"
    },
    "id": "xLpsS__cg4Vu",
    "outputId": "ade5bd63-7f96-44ff-9c1e-6206a6070b63"
   },
   "outputs": [
    {
     "name": "stdout",
     "output_type": "stream",
     "text": [
      "['uganda bans vagina monologues uganda s authorities have banned the play the vagina monologues  due to open in the capital  kampala this weekend.  the ugandan media council said the performance would not be put on as it promoted and glorified acts such as lesbianism and homosexuality. it said the production could go ahead if the organisers  expunge all the offending parts . but the organisers of the play say it raises awareness of sexual abuse against women.  the play promotes illegal  unnatural sexual acts  homosexuality and prostitution  it should be and is hereby banned   the council s ruling said.  the show  which has been a controversial sell-out around the world  explores female sexuality and strength through individual women telling their stories through monologues. some parliamentarians and church leaders are also siding with the media council  uganda s new vision newspaper reports.  the play is obscene and pornographic although it was under the guise of women s liberation   mp kefa ssempgani told parliament.  but the work s author  us playwright eve ensler  says it is all about women s empowerment.  there is obviously some fear of the vagina and saying the word vagina   ms ensler told the bbc.  it s not a slang word or dirty word it s a biological  anatomical word.  she said the play is being produced and performed by ugandan women and it is not being forced on them. the four ugandan ngos organising the play intended to raise money to campaign to stop violence against women and to raise funds for the war-torn north of the country.  i m extremely outraged at the hypocrisy   the play s organiser in uganda  sarah mukasa  told the bbc s focus on africa programme.  i m amazed that this country uganda gives the impression that it is progressive and supports women s rights and the notions of free speech; yet when women want to share their stories the government uses the apparatus of state to shut us up.'\n",
      " 'rem concerts blighted by illness us rock band rem have been forced to cancel concerts after bass player mike mills was taken to hospital suffering from  severe flu-like symptoms .  the band were forced to cut short monday night s show in sheffield  and have cancelled tuesday s glasgow date. mills could  hardly stand up  let alone play   said an rem spokesman  who added he is now  resting  in hospital. the remainder of the band played a short acoustic set on monday. tuesday s gig has been rescheduled for 15 june. those who had a ticket for the show in glasgow are being advised to retain their ticket stub so they can attend the new date. the band s spokesman said that they would review their remaining dates on a  day-to-day basis   based on doctors  advice to mills.  obviously we all want mike to get better  and clearly we all want to play the shows. rest assured we will do so as soon as possible   he said.  the band were still hopeful they would be able to make their wednesday date  added the spokesman. rem played accoustic versions of their hits losing my religion  i ve been high  leaving new york and the one i love to the sheffield arena audience on monday. the band had originally been scheduled to play four dates in the uk as part of a world tour. in 1995 former drummer bill berry collapsed in switzerland while the band was on tour  having suffered a ruptured aneurysm. he made a full recovery  only to leave the band two years later.']\n",
      "tf.Tensor(\n",
      "[[   1 4516    1    1    1    8  883   21 2117    2  156    2    1    1\n",
      "   315    3  263    7    2 1171    1   34  627    2    1  285  466   14\n",
      "     2  519   38   29   17  189   13   20   12    1    5    1 2184   95\n",
      "    20    1    5    1   12   14    2  565   59  142  366   61    2 2145\n",
      "     1   60    2    1 2205   25    2 2145    4    2  156  153   12    1\n",
      "  2810    4    1 2821   83  444    2  156    1 1165    1    1 2184    1\n",
      "     5    1   12   99   17    5   10    1 2117    2  466    8 1051   14\n",
      "     2  141   37   19   39    6 1133    1  234    2   71    1 1913    1\n",
      "     5 2036  166 1055  444 2077   40 2192  166    1   70    1    5 2712\n",
      "  1143   26   44    1   18    2  285  466    1    8   46 2305  790  536\n",
      "     2  156   10    1    5    1  322   12   16  176    2    1    4  444\n",
      "     8    1  922    1    1   86  558   25    2  138    8 3253   49    1\n",
      "  3234    1  127   12   10   60   53  444    8    1   51   10 1501   70\n",
      "  1121    4    2    1    5  275    2 1805    1  371    1   86    2  110\n",
      "    12    8   29    6]\n",
      " [   1 4489    1   24    1   49  740  397    1   21   39  924    3 4778\n",
      "  4489   52    1  379  864    1   16  433    3 1961 2078   28 4121    1\n",
      "     1    2  397   42  924    3  338  745  513  904    8  141    7 2041\n",
      "     5   21 3698  451    8 2223  868    1   59 4205  938   47  615 1349\n",
      "   156   14   35    1  250   45  111   15   10   77    1    7 1961    2\n",
      "     1    4    2  397  333    6  745    1  114   13  513  451    8 3837\n",
      "    19   39    1    9  648 1007  140   45   36    6 2190    9    2  141\n",
      "     7 2223   26   85 3544    3 4135   40 2190    1   80   31   56 2069\n",
      "     2   46  868    2  397    8  250   14   11   31   38 1193   40 1857\n",
      "  4478   13    6    1 1492  596   13 3852 1190    3    1 1501   33   60\n",
      "   168  864    3   97  255    5 1514   33   60  168    3  156    2  579\n",
      "  1096    1   33   23   88   80   20  902   20  518   15   14    2  397\n",
      "    42  143 3487   31   38   17  305    3   90   40  468  868  111    2\n",
      "   250    1  333    1 2241    4   40 1391 1337  125    1   27  281   39\n",
      "   271 1958   46  626]], shape=(2, 200), dtype=int64)\n"
     ]
    }
   ],
   "source": [
    "# [Optional to test out the tokenizer]\n",
    "sample_text = X_train[:2]\n",
    "sample_token = tokenizer(sample_text)\n",
    "print(sample_text)\n",
    "print(sample_token)"
   ]
  },
  {
   "cell_type": "markdown",
   "metadata": {
    "id": "EN-1RcQghWTc"
   },
   "source": [
    "there are lots of 1, so 1 might be the out of vocabulary. but which one comes first? tokenize or padding/truncating."
   ]
  },
  {
   "cell_type": "code",
   "execution_count": 26,
   "metadata": {
    "id": "4JYHvjx6igDR"
   },
   "outputs": [],
   "source": [
    "# Embedding (keras embedding layer)\n",
    "# input_dim = size of vocab (match with the max_tokens)\n",
    "# output_dim = what comes out of embedding is a vector. How long our number is (our vector) is defined by this param\n",
    "\n",
    "embedding = layers.Embedding(5000, 64)"
   ]
  },
  {
   "cell_type": "code",
   "execution_count": 27,
   "metadata": {
    "id": "ieyQ0FQqjJzs"
   },
   "outputs": [],
   "source": [
    "# Model Development\n",
    "# we use bidirectional LSTM - to help deal with the ambiguity of the language\n",
    "model = Sequential()\n",
    "#(A) NLP layers\n",
    "model.add(tokenizer)\n",
    "model.add(embedding)\n",
    "#(B) RNN layers\n",
    "#model.add(layers.Bidirectional(layers.LSTM(32, return_sequences=True))) #True because we passing onto the next LSTM layer\n",
    "model.add(layers.Bidirectional(layers.LSTM(32))) #return_seq false because it is many to one, output is 1.\n",
    "#(C) Dense layers\n",
    "model.add(layers.Dense(5, activation='softmax'))\n",
    "#model.summary()"
   ]
  },
  {
   "cell_type": "code",
   "execution_count": 28,
   "metadata": {
    "id": "Ui3Ya3ytt9Te"
   },
   "outputs": [],
   "source": [
    "# model compile\n",
    "model.compile(optimizer='adam', loss='sparse_categorical_crossentropy', metrics=['accuracy'])"
   ]
  },
  {
   "cell_type": "code",
   "execution_count": 29,
   "metadata": {
    "colab": {
     "base_uri": "https://localhost:8080/"
    },
    "id": "LGdlMJmfuK88",
    "outputId": "3df47f75-caa4-48c8-d01b-a5806c57906b"
   },
   "outputs": [
    {
     "name": "stderr",
     "output_type": "stream",
     "text": [
      "2024/12/31 13:37:20 WARNING mlflow.tensorflow: Encountered unexpected error while inferring batch size from training dataset: Sequential model 'sequential' has no defined input shape yet.\n",
      "2024/12/31 13:37:20 WARNING mlflow.utils.autologging_utils: Encountered unexpected error during autologging: 'NoneType' object is not subscriptable\n"
     ]
    },
    {
     "name": "stdout",
     "output_type": "stream",
     "text": [
      "Epoch 1/10\n",
      "\u001b[1m49/49\u001b[0m \u001b[32m━━━━━━━━━━━━━━━━━━━━\u001b[0m\u001b[37m\u001b[0m \u001b[1m0s\u001b[0m 62ms/step - accuracy: 0.2481 - loss: 1.5906"
     ]
    },
    {
     "name": "stderr",
     "output_type": "stream",
     "text": [
      "WARNING:absl:You are saving your model as an HDF5 file via `model.save()` or `keras.saving.save_model(model)`. This file format is considered legacy. We recommend using instead the native Keras format, e.g. `model.save('my_model.keras')` or `keras.saving.save_model(model, 'my_model.keras')`. \n"
     ]
    },
    {
     "name": "stdout",
     "output_type": "stream",
     "text": [
      "\u001b[1m49/49\u001b[0m \u001b[32m━━━━━━━━━━━━━━━━━━━━\u001b[0m\u001b[37m\u001b[0m \u001b[1m7s\u001b[0m 77ms/step - accuracy: 0.2491 - loss: 1.5897 - val_accuracy: 0.4731 - val_loss: 1.2268\n",
      "Epoch 2/10\n",
      "\u001b[1m49/49\u001b[0m \u001b[32m━━━━━━━━━━━━━━━━━━━━\u001b[0m\u001b[37m\u001b[0m \u001b[1m0s\u001b[0m 62ms/step - accuracy: 0.5473 - loss: 1.1278"
     ]
    },
    {
     "name": "stderr",
     "output_type": "stream",
     "text": [
      "WARNING:absl:You are saving your model as an HDF5 file via `model.save()` or `keras.saving.save_model(model)`. This file format is considered legacy. We recommend using instead the native Keras format, e.g. `model.save('my_model.keras')` or `keras.saving.save_model(model, 'my_model.keras')`. \n"
     ]
    },
    {
     "name": "stdout",
     "output_type": "stream",
     "text": [
      "\u001b[1m49/49\u001b[0m \u001b[32m━━━━━━━━━━━━━━━━━━━━\u001b[0m\u001b[37m\u001b[0m \u001b[1m3s\u001b[0m 67ms/step - accuracy: 0.5480 - loss: 1.1264 - val_accuracy: 0.5629 - val_loss: 0.9498\n",
      "Epoch 3/10\n",
      "\u001b[1m49/49\u001b[0m \u001b[32m━━━━━━━━━━━━━━━━━━━━\u001b[0m\u001b[37m\u001b[0m \u001b[1m0s\u001b[0m 63ms/step - accuracy: 0.6768 - loss: 0.7559"
     ]
    },
    {
     "name": "stderr",
     "output_type": "stream",
     "text": [
      "WARNING:absl:You are saving your model as an HDF5 file via `model.save()` or `keras.saving.save_model(model)`. This file format is considered legacy. We recommend using instead the native Keras format, e.g. `model.save('my_model.keras')` or `keras.saving.save_model(model, 'my_model.keras')`. \n"
     ]
    },
    {
     "name": "stdout",
     "output_type": "stream",
     "text": [
      "\u001b[1m49/49\u001b[0m \u001b[32m━━━━━━━━━━━━━━━━━━━━\u001b[0m\u001b[37m\u001b[0m \u001b[1m3s\u001b[0m 68ms/step - accuracy: 0.6773 - loss: 0.7552 - val_accuracy: 0.7216 - val_loss: 0.7243\n",
      "Epoch 4/10\n",
      "\u001b[1m49/49\u001b[0m \u001b[32m━━━━━━━━━━━━━━━━━━━━\u001b[0m\u001b[37m\u001b[0m \u001b[1m0s\u001b[0m 66ms/step - accuracy: 0.7981 - loss: 0.5426"
     ]
    },
    {
     "name": "stderr",
     "output_type": "stream",
     "text": [
      "WARNING:absl:You are saving your model as an HDF5 file via `model.save()` or `keras.saving.save_model(model)`. This file format is considered legacy. We recommend using instead the native Keras format, e.g. `model.save('my_model.keras')` or `keras.saving.save_model(model, 'my_model.keras')`. \n"
     ]
    },
    {
     "name": "stdout",
     "output_type": "stream",
     "text": [
      "\u001b[1m49/49\u001b[0m \u001b[32m━━━━━━━━━━━━━━━━━━━━\u001b[0m\u001b[37m\u001b[0m \u001b[1m4s\u001b[0m 72ms/step - accuracy: 0.7992 - loss: 0.5413 - val_accuracy: 0.8623 - val_loss: 0.5509\n",
      "Epoch 5/10\n",
      "\u001b[1m49/49\u001b[0m \u001b[32m━━━━━━━━━━━━━━━━━━━━\u001b[0m\u001b[37m\u001b[0m \u001b[1m0s\u001b[0m 63ms/step - accuracy: 0.9430 - loss: 0.3015"
     ]
    },
    {
     "name": "stderr",
     "output_type": "stream",
     "text": [
      "WARNING:absl:You are saving your model as an HDF5 file via `model.save()` or `keras.saving.save_model(model)`. This file format is considered legacy. We recommend using instead the native Keras format, e.g. `model.save('my_model.keras')` or `keras.saving.save_model(model, 'my_model.keras')`. \n"
     ]
    },
    {
     "name": "stdout",
     "output_type": "stream",
     "text": [
      "\u001b[1m49/49\u001b[0m \u001b[32m━━━━━━━━━━━━━━━━━━━━\u001b[0m\u001b[37m\u001b[0m \u001b[1m3s\u001b[0m 68ms/step - accuracy: 0.9430 - loss: 0.3011 - val_accuracy: 0.8653 - val_loss: 0.4660\n",
      "Epoch 6/10\n",
      "\u001b[1m49/49\u001b[0m \u001b[32m━━━━━━━━━━━━━━━━━━━━\u001b[0m\u001b[37m\u001b[0m \u001b[1m0s\u001b[0m 66ms/step - accuracy: 0.9528 - loss: 0.2168"
     ]
    },
    {
     "name": "stderr",
     "output_type": "stream",
     "text": [
      "WARNING:absl:You are saving your model as an HDF5 file via `model.save()` or `keras.saving.save_model(model)`. This file format is considered legacy. We recommend using instead the native Keras format, e.g. `model.save('my_model.keras')` or `keras.saving.save_model(model, 'my_model.keras')`. \n"
     ]
    },
    {
     "name": "stdout",
     "output_type": "stream",
     "text": [
      "\u001b[1m49/49\u001b[0m \u001b[32m━━━━━━━━━━━━━━━━━━━━\u001b[0m\u001b[37m\u001b[0m \u001b[1m4s\u001b[0m 71ms/step - accuracy: 0.9529 - loss: 0.2166 - val_accuracy: 0.9192 - val_loss: 0.3634\n",
      "Epoch 7/10\n",
      "\u001b[1m49/49\u001b[0m \u001b[32m━━━━━━━━━━━━━━━━━━━━\u001b[0m\u001b[37m\u001b[0m \u001b[1m0s\u001b[0m 64ms/step - accuracy: 0.9805 - loss: 0.1188"
     ]
    },
    {
     "name": "stderr",
     "output_type": "stream",
     "text": [
      "WARNING:absl:You are saving your model as an HDF5 file via `model.save()` or `keras.saving.save_model(model)`. This file format is considered legacy. We recommend using instead the native Keras format, e.g. `model.save('my_model.keras')` or `keras.saving.save_model(model, 'my_model.keras')`. \n"
     ]
    },
    {
     "name": "stdout",
     "output_type": "stream",
     "text": [
      "\u001b[1m49/49\u001b[0m \u001b[32m━━━━━━━━━━━━━━━━━━━━\u001b[0m\u001b[37m\u001b[0m \u001b[1m3s\u001b[0m 69ms/step - accuracy: 0.9805 - loss: 0.1186 - val_accuracy: 0.9012 - val_loss: 0.2797\n",
      "Epoch 8/10\n",
      "\u001b[1m49/49\u001b[0m \u001b[32m━━━━━━━━━━━━━━━━━━━━\u001b[0m\u001b[37m\u001b[0m \u001b[1m0s\u001b[0m 64ms/step - accuracy: 0.9895 - loss: 0.0640"
     ]
    },
    {
     "name": "stderr",
     "output_type": "stream",
     "text": [
      "WARNING:absl:You are saving your model as an HDF5 file via `model.save()` or `keras.saving.save_model(model)`. This file format is considered legacy. We recommend using instead the native Keras format, e.g. `model.save('my_model.keras')` or `keras.saving.save_model(model, 'my_model.keras')`. \n"
     ]
    },
    {
     "name": "stdout",
     "output_type": "stream",
     "text": [
      "\u001b[1m49/49\u001b[0m \u001b[32m━━━━━━━━━━━━━━━━━━━━\u001b[0m\u001b[37m\u001b[0m \u001b[1m3s\u001b[0m 70ms/step - accuracy: 0.9895 - loss: 0.0639 - val_accuracy: 0.9251 - val_loss: 0.2695\n",
      "Epoch 9/10\n",
      "\u001b[1m49/49\u001b[0m \u001b[32m━━━━━━━━━━━━━━━━━━━━\u001b[0m\u001b[37m\u001b[0m \u001b[1m3s\u001b[0m 70ms/step - accuracy: 0.9894 - loss: 0.0564 - val_accuracy: 0.9072 - val_loss: 0.2909\n",
      "Epoch 10/10\n",
      "\u001b[1m49/49\u001b[0m \u001b[32m━━━━━━━━━━━━━━━━━━━━\u001b[0m\u001b[37m\u001b[0m \u001b[1m3s\u001b[0m 70ms/step - accuracy: 0.9973 - loss: 0.0239 - val_accuracy: 0.9162 - val_loss: 0.2847\n",
      "\u001b[1m1/1\u001b[0m \u001b[32m━━━━━━━━━━━━━━━━━━━━\u001b[0m\u001b[37m\u001b[0m \u001b[1m0s\u001b[0m 397ms/step\n"
     ]
    }
   ],
   "source": [
    "#model training\n",
    "with mlflow.start_run():\n",
    "    mlflow.tensorflow.autolog()\n",
    "    history = model.fit(X_train, y_train, epochs=10, validation_data=(X_val, y_val), batch_size=32, verbose=1)"
   ]
  },
  {
   "cell_type": "code",
   "execution_count": 30,
   "metadata": {
    "colab": {
     "base_uri": "https://localhost:8080/",
     "height": 445
    },
    "id": "0_tAjVNqwJv5",
    "outputId": "7da9521d-4547-4a16-9a38-adcd589bab0a"
   },
   "outputs": [
    {
     "data": {
      "image/png": "[encoded data removed]",
      "text/plain": [
       "<Figure size 1000x500 with 1 Axes>"
      ]
     },
     "metadata": {},
     "output_type": "display_data"
    }
   ],
   "source": [
    "# plot val_loss against loss with the epochs on x axis\n",
    "plt.figure(figsize=(10, 5))\n",
    "plt.plot(history.history['loss'], label='loss')\n",
    "plt.plot(history.history['val_loss'], label='val_loss')\n",
    "plt.legend()\n",
    "plt.show()"
   ]
  },
  {
   "cell_type": "code",
   "execution_count": 31,
   "metadata": {
    "colab": {
     "base_uri": "https://localhost:8080/"
    },
    "id": "jBVmUeLRw7ct",
    "outputId": "e011901e-053c-440a-c226-bf98b5a9d392"
   },
   "outputs": [
    {
     "name": "stdout",
     "output_type": "stream",
     "text": [
      "\u001b[1m11/11\u001b[0m \u001b[32m━━━━━━━━━━━━━━━━━━━━\u001b[0m\u001b[37m\u001b[0m \u001b[1m0s\u001b[0m 16ms/step - accuracy: 0.9211 - loss: 0.2988\n"
     ]
    },
    {
     "data": {
      "text/plain": [
       "[0.28951817750930786, 0.9221556782722473]"
      ]
     },
     "execution_count": 31,
     "metadata": {},
     "output_type": "execute_result"
    }
   ],
   "source": [
    "# evaluate our model\n",
    "model.evaluate(X_test, y_test)"
   ]
  },
  {
   "cell_type": "markdown",
   "metadata": {
    "id": "lMD2BatzxhLH"
   },
   "source": [
    "we can also utilise mlflow for NLP"
   ]
  },
  {
   "cell_type": "code",
   "execution_count": 32,
   "metadata": {},
   "outputs": [],
   "source": [
    "#save the label encoder as pickle\n",
    "with open(\"news_encoder.pkl\", \"wb\") as f:\n",
    "    pickle.dump(encoder, f)"
   ]
  }
 ],
 "metadata": {
  "colab": {
   "provenance": []
  },
  "kernelspec": {
   "display_name": "ypai10",
   "language": "python",
   "name": "python3"
  },
  "language_info": {
   "codemirror_mode": {
    "name": "ipython",
    "version": 3
   },
   "file_extension": ".py",
   "mimetype": "text/x-python",
   "name": "python",
   "nbconvert_exporter": "python",
   "pygments_lexer": "ipython3",
   "version": "3.12.7"
  }
 },
 "nbformat": 4,
 "nbformat_minor": 0
}
